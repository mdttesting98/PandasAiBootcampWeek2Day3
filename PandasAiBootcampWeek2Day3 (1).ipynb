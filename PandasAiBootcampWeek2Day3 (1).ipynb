{
  "nbformat": 4,
  "nbformat_minor": 0,
  "metadata": {
    "colab": {
      "name": "PandasAiBootcampWeek2Day3.ipynb",
      "provenance": [],
      "collapsed_sections": []
    },
    "kernelspec": {
      "name": "python3",
      "display_name": "Python 3"
    },
    "language_info": {
      "name": "python"
    }
  },
  "cells": [
    {
      "cell_type": "markdown",
      "metadata": {
        "id": "fFCUi4g1uVGQ"
      },
      "source": [
        "#AI and Data Science Workshop with Python\n",
        "\n",
        "Assignment 03\n",
        "\n",
        "Pandas"
      ]
    },
    {
      "cell_type": "markdown",
      "metadata": {
        "id": "TuVsfXpWuck-"
      },
      "source": [
        "1- Upload the xlsx file `example.xlsx` in your google drive and read the excel file using pandas. And show the data. \n",
        "To read an excel file you can use `pd.read_excel()`.\n",
        "The result can be as follow:\n",
        "```\n",
        "<bound method NDFrame.head of       Year  MSHA ID  ... Average Employees Labor Hours\n",
        "0     2013   103381  ...                10       22392\n",
        "1     2013   103404  ...                18       28447\n",
        "2     2013   100759  ...               183      474784\n",
        "3     2013   103246  ...                13       29193\n",
        "4     2013   103451  ...                27       46393\n",
        "...    ...      ...  ...               ...         ...\n",
        "1445  2013  1103254  ...                 4        8249\n",
        "1446  2013  1102636  ...                 4        1449\n",
        "1447  2013  4407233  ...                16       43684\n",
        "1448  2013  1518524  ...                 2         622\n",
        "1449  2013  1519685  ...                 3        1020\n",
        "```"
      ]
    },
    {
      "cell_type": "code",
      "metadata": {
        "id": "fZT-gTjhgMjY",
        "colab": {
          "base_uri": "https://localhost:8080/"
        },
        "outputId": "9e8c2dfb-c4ce-4eaa-d055-8d7d078df5d5"
      },
      "source": [
        "from google.colab import drive\n",
        "drive.mount('/content/drive')\n",
        "\n",
        "import pandas as pd"
      ],
      "execution_count": null,
      "outputs": [
        {
          "output_type": "stream",
          "text": [
            "Drive already mounted at /content/drive; to attempt to forcibly remount, call drive.mount(\"/content/drive\", force_remount=True).\n"
          ],
          "name": "stdout"
        }
      ]
    },
    {
      "cell_type": "code",
      "metadata": {
        "id": "t5C1pjbMf-mH",
        "colab": {
          "base_uri": "https://localhost:8080/",
          "height": 526
        },
        "outputId": "486d3f6b-1c99-4c72-8e94-eebb573d2915"
      },
      "source": [
        "path = '/content/drive/MyDrive/bootcamp/example.xlsx'\n",
        "df = pd.read_excel(path)\n",
        "df.head()"
      ],
      "execution_count": null,
      "outputs": [
        {
          "output_type": "execute_result",
          "data": {
            "text/html": [
              "<div>\n",
              "<style scoped>\n",
              "    .dataframe tbody tr th:only-of-type {\n",
              "        vertical-align: middle;\n",
              "    }\n",
              "\n",
              "    .dataframe tbody tr th {\n",
              "        vertical-align: top;\n",
              "    }\n",
              "\n",
              "    .dataframe thead th {\n",
              "        text-align: right;\n",
              "    }\n",
              "</style>\n",
              "<table border=\"1\" class=\"dataframe\">\n",
              "  <thead>\n",
              "    <tr style=\"text-align: right;\">\n",
              "      <th></th>\n",
              "      <th>Year</th>\n",
              "      <th>MSHA ID</th>\n",
              "      <th>Mine Name</th>\n",
              "      <th>Mine State</th>\n",
              "      <th>Mine County</th>\n",
              "      <th>Mine Status</th>\n",
              "      <th>Mine Type</th>\n",
              "      <th>Company Type</th>\n",
              "      <th>Operation Type</th>\n",
              "      <th>Operating Company</th>\n",
              "      <th>Operating Company Address</th>\n",
              "      <th>Union Code</th>\n",
              "      <th>Coal Supply Region</th>\n",
              "      <th>Production (short tons)</th>\n",
              "      <th>Average Employees</th>\n",
              "      <th>Labor Hours</th>\n",
              "    </tr>\n",
              "  </thead>\n",
              "  <tbody>\n",
              "    <tr>\n",
              "      <th>0</th>\n",
              "      <td>2013</td>\n",
              "      <td>103381</td>\n",
              "      <td>Tacoa Highwall Miner</td>\n",
              "      <td>Alabama</td>\n",
              "      <td>Bibb</td>\n",
              "      <td>Active, men working, not producing</td>\n",
              "      <td>Surface</td>\n",
              "      <td>Indepedent Producer Operator</td>\n",
              "      <td>Mine only</td>\n",
              "      <td>Jesse Creek Mining, Llc</td>\n",
              "      <td>1615 Kent Dairy Rd, Alabaster, AL 35007</td>\n",
              "      <td></td>\n",
              "      <td>Appalachia Southern</td>\n",
              "      <td>56004</td>\n",
              "      <td>10</td>\n",
              "      <td>22392</td>\n",
              "    </tr>\n",
              "    <tr>\n",
              "      <th>1</th>\n",
              "      <td>2013</td>\n",
              "      <td>103404</td>\n",
              "      <td>Reid School Mine</td>\n",
              "      <td>Alabama</td>\n",
              "      <td>Blount</td>\n",
              "      <td>Permanently abandoned</td>\n",
              "      <td>Surface</td>\n",
              "      <td>Indepedent Producer Operator</td>\n",
              "      <td>Mine only</td>\n",
              "      <td>Taft Coal Sales &amp; Associates,</td>\n",
              "      <td>3000 Riverchase Galleria Ste 1, Birmingham, AL...</td>\n",
              "      <td>UNIT</td>\n",
              "      <td>Appalachia Southern</td>\n",
              "      <td>28807</td>\n",
              "      <td>18</td>\n",
              "      <td>28447</td>\n",
              "    </tr>\n",
              "    <tr>\n",
              "      <th>2</th>\n",
              "      <td>2013</td>\n",
              "      <td>100759</td>\n",
              "      <td>North River #1 Underground Min</td>\n",
              "      <td>Alabama</td>\n",
              "      <td>Fayette</td>\n",
              "      <td>Active, men working, not producing</td>\n",
              "      <td>Underground</td>\n",
              "      <td>Indepedent Producer Operator</td>\n",
              "      <td>Mine and Preparation Plant</td>\n",
              "      <td>Jim Walter Resources Inc</td>\n",
              "      <td>3114 County Rd 63 S, Berry, AL 35546</td>\n",
              "      <td>UNIT</td>\n",
              "      <td>Appalachia Southern</td>\n",
              "      <td>1440115</td>\n",
              "      <td>183</td>\n",
              "      <td>474784</td>\n",
              "    </tr>\n",
              "    <tr>\n",
              "      <th>3</th>\n",
              "      <td>2013</td>\n",
              "      <td>103246</td>\n",
              "      <td>Bear Creek</td>\n",
              "      <td>Alabama</td>\n",
              "      <td>Franklin</td>\n",
              "      <td>Active</td>\n",
              "      <td>Surface</td>\n",
              "      <td>Indepedent Producer Operator</td>\n",
              "      <td>Mine only</td>\n",
              "      <td>Birmingham Coal &amp; Coke Co., In</td>\n",
              "      <td>912 Edenton Street, Birmingham, AL 35242</td>\n",
              "      <td></td>\n",
              "      <td>Appalachia Southern</td>\n",
              "      <td>87587</td>\n",
              "      <td>13</td>\n",
              "      <td>29193</td>\n",
              "    </tr>\n",
              "    <tr>\n",
              "      <th>4</th>\n",
              "      <td>2013</td>\n",
              "      <td>103451</td>\n",
              "      <td>Knight Mine</td>\n",
              "      <td>Alabama</td>\n",
              "      <td>Franklin</td>\n",
              "      <td>Active</td>\n",
              "      <td>Surface</td>\n",
              "      <td>Indepedent Producer Operator</td>\n",
              "      <td>Mine only</td>\n",
              "      <td>Birmingham Coal &amp; Coke Co., In</td>\n",
              "      <td>P.O. Box 354, Lynn, AL 35242</td>\n",
              "      <td></td>\n",
              "      <td>Appalachia Southern</td>\n",
              "      <td>147499</td>\n",
              "      <td>27</td>\n",
              "      <td>46393</td>\n",
              "    </tr>\n",
              "  </tbody>\n",
              "</table>\n",
              "</div>"
            ],
            "text/plain": [
              "   Year  MSHA ID  ... Average Employees Labor Hours\n",
              "0  2013   103381  ...                10       22392\n",
              "1  2013   103404  ...                18       28447\n",
              "2  2013   100759  ...               183      474784\n",
              "3  2013   103246  ...                13       29193\n",
              "4  2013   103451  ...                27       46393\n",
              "\n",
              "[5 rows x 16 columns]"
            ]
          },
          "metadata": {},
          "execution_count": 8
        }
      ]
    },
    {
      "cell_type": "markdown",
      "metadata": {
        "id": "DYUW_0LN0bYC"
      },
      "source": [
        "2- Write a pandas code to get the datatype of the data.\n",
        "The result can be like this:\n",
        "\n",
        "```\n",
        "Year                          int64\n",
        "MSHA ID                       int64\n",
        "Mine Name                    object\n",
        "Mine State                   object\n",
        "Mine County                  object\n",
        "Mine Status                  object\n",
        "Mine Type                    object\n",
        "Company Type                 object\n",
        "Operation Type               object\n",
        "Operating Company            object\n",
        "Operating Company Address    object\n",
        "Union Code                   object\n",
        "Coal Supply Region           object\n",
        "Production (short tons)       int64\n",
        "Average Employees             int64\n",
        "Labor Hours                   int64\n",
        "dtype: object\n",
        "```\n",
        "---\n",
        "\n"
      ]
    },
    {
      "cell_type": "code",
      "metadata": {
        "id": "XPqLkMW8g336",
        "colab": {
          "base_uri": "https://localhost:8080/"
        },
        "outputId": "ff73f997-56f6-472b-b397-867a322a21cc"
      },
      "source": [
        "df.dtypes"
      ],
      "execution_count": null,
      "outputs": [
        {
          "output_type": "execute_result",
          "data": {
            "text/plain": [
              "Year                          int64\n",
              "MSHA ID                       int64\n",
              "Mine Name                    object\n",
              "Mine State                   object\n",
              "Mine County                  object\n",
              "Mine Status                  object\n",
              "Mine Type                    object\n",
              "Company Type                 object\n",
              "Operation Type               object\n",
              "Operating Company            object\n",
              "Operating Company Address    object\n",
              "Union Code                   object\n",
              "Coal Supply Region           object\n",
              "Production (short tons)       int64\n",
              "Average Employees             int64\n",
              "Labor Hours                   int64\n",
              "dtype: object"
            ]
          },
          "metadata": {},
          "execution_count": 5
        }
      ]
    },
    {
      "cell_type": "markdown",
      "metadata": {
        "id": "I40Ccth44TZl"
      },
      "source": [
        "3- Write a Pandas code to read the first three columns"
      ]
    },
    {
      "cell_type": "code",
      "metadata": {
        "id": "yGWAFQ9IhH4C",
        "colab": {
          "base_uri": "https://localhost:8080/",
          "height": 203
        },
        "outputId": "f96014a6-2341-4769-9e1e-0268ff877ab9"
      },
      "source": [
        "df.iloc[:, 0:3].head()"
      ],
      "execution_count": null,
      "outputs": [
        {
          "output_type": "execute_result",
          "data": {
            "text/html": [
              "<div>\n",
              "<style scoped>\n",
              "    .dataframe tbody tr th:only-of-type {\n",
              "        vertical-align: middle;\n",
              "    }\n",
              "\n",
              "    .dataframe tbody tr th {\n",
              "        vertical-align: top;\n",
              "    }\n",
              "\n",
              "    .dataframe thead th {\n",
              "        text-align: right;\n",
              "    }\n",
              "</style>\n",
              "<table border=\"1\" class=\"dataframe\">\n",
              "  <thead>\n",
              "    <tr style=\"text-align: right;\">\n",
              "      <th></th>\n",
              "      <th>Year</th>\n",
              "      <th>MSHA ID</th>\n",
              "      <th>Mine Name</th>\n",
              "    </tr>\n",
              "  </thead>\n",
              "  <tbody>\n",
              "    <tr>\n",
              "      <th>0</th>\n",
              "      <td>2013</td>\n",
              "      <td>103381</td>\n",
              "      <td>Tacoa Highwall Miner</td>\n",
              "    </tr>\n",
              "    <tr>\n",
              "      <th>1</th>\n",
              "      <td>2013</td>\n",
              "      <td>103404</td>\n",
              "      <td>Reid School Mine</td>\n",
              "    </tr>\n",
              "    <tr>\n",
              "      <th>2</th>\n",
              "      <td>2013</td>\n",
              "      <td>100759</td>\n",
              "      <td>North River #1 Underground Min</td>\n",
              "    </tr>\n",
              "    <tr>\n",
              "      <th>3</th>\n",
              "      <td>2013</td>\n",
              "      <td>103246</td>\n",
              "      <td>Bear Creek</td>\n",
              "    </tr>\n",
              "    <tr>\n",
              "      <th>4</th>\n",
              "      <td>2013</td>\n",
              "      <td>103451</td>\n",
              "      <td>Knight Mine</td>\n",
              "    </tr>\n",
              "  </tbody>\n",
              "</table>\n",
              "</div>"
            ],
            "text/plain": [
              "   Year  MSHA ID                       Mine Name\n",
              "0  2013   103381            Tacoa Highwall Miner\n",
              "1  2013   103404                Reid School Mine\n",
              "2  2013   100759  North River #1 Underground Min\n",
              "3  2013   103246                      Bear Creek\n",
              "4  2013   103451                     Knight Mine"
            ]
          },
          "metadata": {},
          "execution_count": 7
        }
      ]
    },
    {
      "cell_type": "markdown",
      "metadata": {
        "id": "Srv6Zq-X5MGT"
      },
      "source": [
        "4- Write a Pandas code to calculate sum, mean, max, and min of the \"Production (short tons)\" column.\n",
        "The result can be like this:\n",
        "```\n",
        "Sum:  984841779\n",
        "Mean:  679201.2268965517\n",
        "Maximum:  111005549\n",
        "Minimum:  0\n",
        "```\n"
      ]
    },
    {
      "cell_type": "code",
      "metadata": {
        "id": "sUmVBD8chlHz",
        "colab": {
          "base_uri": "https://localhost:8080/"
        },
        "outputId": "15ed41f5-550a-4151-852d-b8df4ac86bbc"
      },
      "source": [
        "import numpy as np\n",
        "\n",
        "dSum = np.sum(df['Production (short tons)'])\n",
        "dMean = np.mean(df['Production (short tons)'])\n",
        "dMax = np.max(df['Production (short tons)'])\n",
        "dMin = np.min(df['Production (short tons)'])\n",
        "               \n",
        "print('Sum: ', dSum)\n",
        "print('Mean: ', dMean)\n",
        "print('Maximum: ', dMax)\n",
        "print('Minimum: ', dMin)"
      ],
      "execution_count": null,
      "outputs": [
        {
          "output_type": "stream",
          "text": [
            "Sum:  984841779\n",
            "Mean:  679201.2268965517\n",
            "Maximum:  111005549\n",
            "Minimum:  0\n"
          ],
          "name": "stdout"
        }
      ]
    },
    {
      "cell_type": "markdown",
      "metadata": {
        "id": "viwwgKRZCurX"
      },
      "source": [
        "5- Write a pandas code to print the last 5 rows"
      ]
    },
    {
      "cell_type": "code",
      "metadata": {
        "id": "FSU6aCHVkOBC",
        "colab": {
          "base_uri": "https://localhost:8080/",
          "height": 593
        },
        "outputId": "638c26b5-97c8-4c5d-df16-c369e0fc6a15"
      },
      "source": [
        "df.tail()"
      ],
      "execution_count": null,
      "outputs": [
        {
          "output_type": "execute_result",
          "data": {
            "text/html": [
              "<div>\n",
              "<style scoped>\n",
              "    .dataframe tbody tr th:only-of-type {\n",
              "        vertical-align: middle;\n",
              "    }\n",
              "\n",
              "    .dataframe tbody tr th {\n",
              "        vertical-align: top;\n",
              "    }\n",
              "\n",
              "    .dataframe thead th {\n",
              "        text-align: right;\n",
              "    }\n",
              "</style>\n",
              "<table border=\"1\" class=\"dataframe\">\n",
              "  <thead>\n",
              "    <tr style=\"text-align: right;\">\n",
              "      <th></th>\n",
              "      <th>Year</th>\n",
              "      <th>MSHA ID</th>\n",
              "      <th>Mine Name</th>\n",
              "      <th>Mine State</th>\n",
              "      <th>Mine County</th>\n",
              "      <th>Mine Status</th>\n",
              "      <th>Mine Type</th>\n",
              "      <th>Company Type</th>\n",
              "      <th>Operation Type</th>\n",
              "      <th>Operating Company</th>\n",
              "      <th>Operating Company Address</th>\n",
              "      <th>Union Code</th>\n",
              "      <th>Coal Supply Region</th>\n",
              "      <th>Production (short tons)</th>\n",
              "      <th>Average Employees</th>\n",
              "      <th>Labor Hours</th>\n",
              "    </tr>\n",
              "  </thead>\n",
              "  <tbody>\n",
              "    <tr>\n",
              "      <th>1445</th>\n",
              "      <td>2013</td>\n",
              "      <td>1103254</td>\n",
              "      <td>Fidelity Mine</td>\n",
              "      <td>Refuse Recovery</td>\n",
              "      <td>Perry</td>\n",
              "      <td>Active, men working, not producing</td>\n",
              "      <td>Refuse</td>\n",
              "      <td>Operating Subsidiary</td>\n",
              "      <td>Mine and Preparation Plant</td>\n",
              "      <td>Energy Recovery, Llc</td>\n",
              "      <td>P.O. Box 483, Benton, IL 62812</td>\n",
              "      <td></td>\n",
              "      <td>Illinois Basin</td>\n",
              "      <td>18532</td>\n",
              "      <td>4</td>\n",
              "      <td>8249</td>\n",
              "    </tr>\n",
              "    <tr>\n",
              "      <th>1446</th>\n",
              "      <td>2013</td>\n",
              "      <td>1102636</td>\n",
              "      <td>Wfi</td>\n",
              "      <td>Refuse Recovery</td>\n",
              "      <td>Saline</td>\n",
              "      <td>Active, men working, not producing</td>\n",
              "      <td>Refuse</td>\n",
              "      <td>Indepedent Producer Operator</td>\n",
              "      <td>Mine only</td>\n",
              "      <td>Wfi</td>\n",
              "      <td>4270 North America Road, Galatia, IL 62935</td>\n",
              "      <td></td>\n",
              "      <td>Illinois Basin</td>\n",
              "      <td>5070</td>\n",
              "      <td>4</td>\n",
              "      <td>1449</td>\n",
              "    </tr>\n",
              "    <tr>\n",
              "      <th>1447</th>\n",
              "      <td>2013</td>\n",
              "      <td>4407233</td>\n",
              "      <td>Gobco #8</td>\n",
              "      <td>Refuse Recovery</td>\n",
              "      <td>Russell</td>\n",
              "      <td>Active</td>\n",
              "      <td>Refuse</td>\n",
              "      <td>Indepedent Producer Operator</td>\n",
              "      <td>Mine only</td>\n",
              "      <td>Mountain Fuels Inc</td>\n",
              "      <td>P.O. Box 749, Abingdon, VA 24210</td>\n",
              "      <td></td>\n",
              "      <td>Appalachia Central</td>\n",
              "      <td>377607</td>\n",
              "      <td>16</td>\n",
              "      <td>43684</td>\n",
              "    </tr>\n",
              "    <tr>\n",
              "      <th>1448</th>\n",
              "      <td>2013</td>\n",
              "      <td>1518524</td>\n",
              "      <td>Turkey Pen Refuse</td>\n",
              "      <td>Refuse Recovery</td>\n",
              "      <td>Pike</td>\n",
              "      <td>Active</td>\n",
              "      <td>Refuse</td>\n",
              "      <td>Indepedent Producer Operator</td>\n",
              "      <td>Mine only</td>\n",
              "      <td>Belcher &amp; Company Excavating I</td>\n",
              "      <td>2340 Conaway Road, Big Rock, VA 24603</td>\n",
              "      <td></td>\n",
              "      <td>Appalachia Central</td>\n",
              "      <td>7744</td>\n",
              "      <td>2</td>\n",
              "      <td>622</td>\n",
              "    </tr>\n",
              "    <tr>\n",
              "      <th>1449</th>\n",
              "      <td>2013</td>\n",
              "      <td>1519685</td>\n",
              "      <td>Fedscreek Refuse Pile</td>\n",
              "      <td>Refuse Recovery</td>\n",
              "      <td>Pike</td>\n",
              "      <td>Active, men working, not producing</td>\n",
              "      <td>Refuse</td>\n",
              "      <td>Indepedent Producer Operator</td>\n",
              "      <td>Mine only</td>\n",
              "      <td>P B Dirt Movers Inc.</td>\n",
              "      <td>P.O. Box 10, Big Rock, VA 24603</td>\n",
              "      <td></td>\n",
              "      <td>Appalachia Central</td>\n",
              "      <td>17357</td>\n",
              "      <td>3</td>\n",
              "      <td>1020</td>\n",
              "    </tr>\n",
              "  </tbody>\n",
              "</table>\n",
              "</div>"
            ],
            "text/plain": [
              "      Year  MSHA ID  ... Average Employees Labor Hours\n",
              "1445  2013  1103254  ...                 4        8249\n",
              "1446  2013  1102636  ...                 4        1449\n",
              "1447  2013  4407233  ...                16       43684\n",
              "1448  2013  1518524  ...                 2         622\n",
              "1449  2013  1519685  ...                 3        1020\n",
              "\n",
              "[5 rows x 16 columns]"
            ]
          },
          "metadata": {},
          "execution_count": 17
        }
      ]
    },
    {
      "cell_type": "markdown",
      "metadata": {
        "id": "w4pby59_DJHx"
      },
      "source": [
        "6- Write a pandas code to print a statistical summary of each column.\n",
        "The result can be like this:\n",
        "\n",
        "```\n",
        "         Year       MSHA ID  ...  Average Employees   Labor Hours\n",
        "count  1450.0  1.450000e+03  ...        1450.000000  1.450000e+03\n",
        "mean   2013.0  3.069954e+06  ...          55.445517  1.226971e+05\n",
        "std       0.0  1.425374e+06  ...         120.833899  2.726465e+05\n",
        "min    2013.0  1.003290e+05  ...           0.000000  3.500000e+01\n",
        "25%    2013.0  1.519166e+06  ...           6.000000  8.842750e+03\n",
        "50%    2013.0  3.608260e+06  ...          17.000000  3.375450e+04\n",
        "75%    2013.0  4.407279e+06  ...          47.750000  1.078175e+05\n",
        "max    2013.0  5.000030e+06  ...        1585.000000  3.206295e+06\n",
        "```"
      ]
    },
    {
      "cell_type": "code",
      "metadata": {
        "id": "WSUphLPgkRmf",
        "colab": {
          "base_uri": "https://localhost:8080/",
          "height": 295
        },
        "outputId": "0b8ef34f-7115-45fd-c48a-c334f1af60c5"
      },
      "source": [
        "df.describe()"
      ],
      "execution_count": null,
      "outputs": [
        {
          "output_type": "execute_result",
          "data": {
            "text/html": [
              "<div>\n",
              "<style scoped>\n",
              "    .dataframe tbody tr th:only-of-type {\n",
              "        vertical-align: middle;\n",
              "    }\n",
              "\n",
              "    .dataframe tbody tr th {\n",
              "        vertical-align: top;\n",
              "    }\n",
              "\n",
              "    .dataframe thead th {\n",
              "        text-align: right;\n",
              "    }\n",
              "</style>\n",
              "<table border=\"1\" class=\"dataframe\">\n",
              "  <thead>\n",
              "    <tr style=\"text-align: right;\">\n",
              "      <th></th>\n",
              "      <th>Year</th>\n",
              "      <th>MSHA ID</th>\n",
              "      <th>Production (short tons)</th>\n",
              "      <th>Average Employees</th>\n",
              "      <th>Labor Hours</th>\n",
              "    </tr>\n",
              "  </thead>\n",
              "  <tbody>\n",
              "    <tr>\n",
              "      <th>count</th>\n",
              "      <td>1450.0</td>\n",
              "      <td>1.450000e+03</td>\n",
              "      <td>1.450000e+03</td>\n",
              "      <td>1450.000000</td>\n",
              "      <td>1.450000e+03</td>\n",
              "    </tr>\n",
              "    <tr>\n",
              "      <th>mean</th>\n",
              "      <td>2013.0</td>\n",
              "      <td>3.069954e+06</td>\n",
              "      <td>6.792012e+05</td>\n",
              "      <td>55.445517</td>\n",
              "      <td>1.226971e+05</td>\n",
              "    </tr>\n",
              "    <tr>\n",
              "      <th>std</th>\n",
              "      <td>0.0</td>\n",
              "      <td>1.425374e+06</td>\n",
              "      <td>4.414922e+06</td>\n",
              "      <td>120.833899</td>\n",
              "      <td>2.726465e+05</td>\n",
              "    </tr>\n",
              "    <tr>\n",
              "      <th>min</th>\n",
              "      <td>2013.0</td>\n",
              "      <td>1.003290e+05</td>\n",
              "      <td>0.000000e+00</td>\n",
              "      <td>0.000000</td>\n",
              "      <td>3.500000e+01</td>\n",
              "    </tr>\n",
              "    <tr>\n",
              "      <th>25%</th>\n",
              "      <td>2013.0</td>\n",
              "      <td>1.519166e+06</td>\n",
              "      <td>0.000000e+00</td>\n",
              "      <td>6.000000</td>\n",
              "      <td>8.842750e+03</td>\n",
              "    </tr>\n",
              "    <tr>\n",
              "      <th>50%</th>\n",
              "      <td>2013.0</td>\n",
              "      <td>3.608260e+06</td>\n",
              "      <td>3.060650e+04</td>\n",
              "      <td>17.000000</td>\n",
              "      <td>3.375450e+04</td>\n",
              "    </tr>\n",
              "    <tr>\n",
              "      <th>75%</th>\n",
              "      <td>2013.0</td>\n",
              "      <td>4.407279e+06</td>\n",
              "      <td>2.514752e+05</td>\n",
              "      <td>47.750000</td>\n",
              "      <td>1.078175e+05</td>\n",
              "    </tr>\n",
              "    <tr>\n",
              "      <th>max</th>\n",
              "      <td>2013.0</td>\n",
              "      <td>5.000030e+06</td>\n",
              "      <td>1.110055e+08</td>\n",
              "      <td>1585.000000</td>\n",
              "      <td>3.206295e+06</td>\n",
              "    </tr>\n",
              "  </tbody>\n",
              "</table>\n",
              "</div>"
            ],
            "text/plain": [
              "         Year       MSHA ID  ...  Average Employees   Labor Hours\n",
              "count  1450.0  1.450000e+03  ...        1450.000000  1.450000e+03\n",
              "mean   2013.0  3.069954e+06  ...          55.445517  1.226971e+05\n",
              "std       0.0  1.425374e+06  ...         120.833899  2.726465e+05\n",
              "min    2013.0  1.003290e+05  ...           0.000000  3.500000e+01\n",
              "25%    2013.0  1.519166e+06  ...           6.000000  8.842750e+03\n",
              "50%    2013.0  3.608260e+06  ...          17.000000  3.375450e+04\n",
              "75%    2013.0  4.407279e+06  ...          47.750000  1.078175e+05\n",
              "max    2013.0  5.000030e+06  ...        1585.000000  3.206295e+06\n",
              "\n",
              "[8 rows x 5 columns]"
            ]
          },
          "metadata": {},
          "execution_count": 19
        }
      ]
    },
    {
      "cell_type": "markdown",
      "metadata": {
        "id": "R4nvpGLRDycq"
      },
      "source": [
        "7- Write a pandas code to print the first 3 rows of the dataset"
      ]
    },
    {
      "cell_type": "code",
      "metadata": {
        "id": "vqgmmoUqkav1"
      },
      "source": [
        "df.head(3)"
      ],
      "execution_count": null,
      "outputs": []
    },
    {
      "cell_type": "markdown",
      "metadata": {
        "id": "e5WkV-gfAC_w"
      },
      "source": [
        "8- Write a Pandas code to details a part of data that \"Average Employees\" > 20.\n",
        "The result can be like this:\n",
        "```\n",
        "\n",
        "      Year  MSHA ID  ... Average Employees Labor Hours\n",
        "2     2013   100759  ...               183      474784\n",
        "4     2013   103451  ...                27       46393\n",
        "5     2013   103433  ...                27       47195\n",
        "6     2013   100329  ...                59      144002\n",
        "7     2013   100851  ...               447     1001809\n",
        "...    ...      ...  ...               ...         ...\n",
        "1417  2013  4800086  ...               289      533884\n",
        "1418  2013  4800677  ...               182      368307\n",
        "1419  2013  4801180  ...               186      386879\n",
        "1420  2013  4801646  ...               278      661265\n",
        "1428  2013  3603561  ...                51      121332\n",
        "```"
      ]
    },
    {
      "cell_type": "code",
      "metadata": {
        "id": "l5gLEid3kdyo",
        "colab": {
          "base_uri": "https://localhost:8080/",
          "height": 924
        },
        "outputId": "6ebf6bb0-ac78-4851-fdb0-877f37bfda16"
      },
      "source": [
        "df[df['Average Employees'] > 20]"
      ],
      "execution_count": null,
      "outputs": [
        {
          "output_type": "execute_result",
          "data": {
            "text/html": [
              "<div>\n",
              "<style scoped>\n",
              "    .dataframe tbody tr th:only-of-type {\n",
              "        vertical-align: middle;\n",
              "    }\n",
              "\n",
              "    .dataframe tbody tr th {\n",
              "        vertical-align: top;\n",
              "    }\n",
              "\n",
              "    .dataframe thead th {\n",
              "        text-align: right;\n",
              "    }\n",
              "</style>\n",
              "<table border=\"1\" class=\"dataframe\">\n",
              "  <thead>\n",
              "    <tr style=\"text-align: right;\">\n",
              "      <th></th>\n",
              "      <th>Year</th>\n",
              "      <th>MSHA ID</th>\n",
              "      <th>Mine Name</th>\n",
              "      <th>Mine State</th>\n",
              "      <th>Mine County</th>\n",
              "      <th>Mine Status</th>\n",
              "      <th>Mine Type</th>\n",
              "      <th>Company Type</th>\n",
              "      <th>Operation Type</th>\n",
              "      <th>Operating Company</th>\n",
              "      <th>Operating Company Address</th>\n",
              "      <th>Union Code</th>\n",
              "      <th>Coal Supply Region</th>\n",
              "      <th>Production (short tons)</th>\n",
              "      <th>Average Employees</th>\n",
              "      <th>Labor Hours</th>\n",
              "    </tr>\n",
              "  </thead>\n",
              "  <tbody>\n",
              "    <tr>\n",
              "      <th>2</th>\n",
              "      <td>2013</td>\n",
              "      <td>100759</td>\n",
              "      <td>North River #1 Underground Min</td>\n",
              "      <td>Alabama</td>\n",
              "      <td>Fayette</td>\n",
              "      <td>Active, men working, not producing</td>\n",
              "      <td>Underground</td>\n",
              "      <td>Indepedent Producer Operator</td>\n",
              "      <td>Mine and Preparation Plant</td>\n",
              "      <td>Jim Walter Resources Inc</td>\n",
              "      <td>3114 County Rd 63 S, Berry, AL 35546</td>\n",
              "      <td>UNIT</td>\n",
              "      <td>Appalachia Southern</td>\n",
              "      <td>1440115</td>\n",
              "      <td>183</td>\n",
              "      <td>474784</td>\n",
              "    </tr>\n",
              "    <tr>\n",
              "      <th>4</th>\n",
              "      <td>2013</td>\n",
              "      <td>103451</td>\n",
              "      <td>Knight Mine</td>\n",
              "      <td>Alabama</td>\n",
              "      <td>Franklin</td>\n",
              "      <td>Active</td>\n",
              "      <td>Surface</td>\n",
              "      <td>Indepedent Producer Operator</td>\n",
              "      <td>Mine only</td>\n",
              "      <td>Birmingham Coal &amp; Coke Co., In</td>\n",
              "      <td>P.O. Box 354, Lynn, AL 35242</td>\n",
              "      <td></td>\n",
              "      <td>Appalachia Southern</td>\n",
              "      <td>147499</td>\n",
              "      <td>27</td>\n",
              "      <td>46393</td>\n",
              "    </tr>\n",
              "    <tr>\n",
              "      <th>5</th>\n",
              "      <td>2013</td>\n",
              "      <td>103433</td>\n",
              "      <td>Crane Central Mine</td>\n",
              "      <td>Alabama</td>\n",
              "      <td>Jackson</td>\n",
              "      <td>Temporarily closed</td>\n",
              "      <td>Surface</td>\n",
              "      <td>Indepedent Producer Operator</td>\n",
              "      <td>Mine only</td>\n",
              "      <td>Alabama Carbon Llc</td>\n",
              "      <td>5957 Windswept Blvd, Wise, VA 24293</td>\n",
              "      <td></td>\n",
              "      <td>Appalachia Southern</td>\n",
              "      <td>69339</td>\n",
              "      <td>27</td>\n",
              "      <td>47195</td>\n",
              "    </tr>\n",
              "    <tr>\n",
              "      <th>6</th>\n",
              "      <td>2013</td>\n",
              "      <td>100329</td>\n",
              "      <td>Concord Mine</td>\n",
              "      <td>Alabama</td>\n",
              "      <td>Jefferson</td>\n",
              "      <td>Active</td>\n",
              "      <td>Underground</td>\n",
              "      <td>Operating Subsidiary</td>\n",
              "      <td>Preparation Plant</td>\n",
              "      <td>Oak Grove Resources Llc</td>\n",
              "      <td>8360 Taylors Ferry Rd, Hueytown, AL 35023</td>\n",
              "      <td>UNIT</td>\n",
              "      <td>Appalachia Southern</td>\n",
              "      <td>0</td>\n",
              "      <td>59</td>\n",
              "      <td>144002</td>\n",
              "    </tr>\n",
              "    <tr>\n",
              "      <th>7</th>\n",
              "      <td>2013</td>\n",
              "      <td>100851</td>\n",
              "      <td>Oak Grove Mine</td>\n",
              "      <td>Alabama</td>\n",
              "      <td>Jefferson</td>\n",
              "      <td>Active</td>\n",
              "      <td>Underground</td>\n",
              "      <td>Operating Subsidiary</td>\n",
              "      <td>Mine only</td>\n",
              "      <td>Oak Grove Resources Llc</td>\n",
              "      <td>8360 Taylors Ferry Rd, Hueytown, AL 35023</td>\n",
              "      <td>UNIT</td>\n",
              "      <td>Appalachia Southern</td>\n",
              "      <td>2269014</td>\n",
              "      <td>447</td>\n",
              "      <td>1001809</td>\n",
              "    </tr>\n",
              "    <tr>\n",
              "      <th>...</th>\n",
              "      <td>...</td>\n",
              "      <td>...</td>\n",
              "      <td>...</td>\n",
              "      <td>...</td>\n",
              "      <td>...</td>\n",
              "      <td>...</td>\n",
              "      <td>...</td>\n",
              "      <td>...</td>\n",
              "      <td>...</td>\n",
              "      <td>...</td>\n",
              "      <td>...</td>\n",
              "      <td>...</td>\n",
              "      <td>...</td>\n",
              "      <td>...</td>\n",
              "      <td>...</td>\n",
              "      <td>...</td>\n",
              "    </tr>\n",
              "    <tr>\n",
              "      <th>1417</th>\n",
              "      <td>2013</td>\n",
              "      <td>4800086</td>\n",
              "      <td>Kemmerer Mine</td>\n",
              "      <td>Wyoming</td>\n",
              "      <td>Lincoln</td>\n",
              "      <td>Active</td>\n",
              "      <td>Surface</td>\n",
              "      <td>Operating Subsidiary</td>\n",
              "      <td>Mine and Preparation Plant</td>\n",
              "      <td>Westmoreland Kemmerer Inc</td>\n",
              "      <td>P.O. Box 950, Kemmerer, WY 83101</td>\n",
              "      <td>United Mine Workers of America</td>\n",
              "      <td>Western</td>\n",
              "      <td>4639135</td>\n",
              "      <td>289</td>\n",
              "      <td>533884</td>\n",
              "    </tr>\n",
              "    <tr>\n",
              "      <th>1418</th>\n",
              "      <td>2013</td>\n",
              "      <td>4800677</td>\n",
              "      <td>Jim Bridger Mine</td>\n",
              "      <td>Wyoming</td>\n",
              "      <td>Sweetwater</td>\n",
              "      <td>Active</td>\n",
              "      <td>Surface</td>\n",
              "      <td>Operating Subsidiary</td>\n",
              "      <td>Mine only</td>\n",
              "      <td>Bridger Coal Company</td>\n",
              "      <td>932 9 Mile Road, Point Of Rock, WY 82942</td>\n",
              "      <td>Western Energy Workers</td>\n",
              "      <td>Western</td>\n",
              "      <td>785984</td>\n",
              "      <td>182</td>\n",
              "      <td>368307</td>\n",
              "    </tr>\n",
              "    <tr>\n",
              "      <th>1419</th>\n",
              "      <td>2013</td>\n",
              "      <td>4801180</td>\n",
              "      <td>Black Butte And Leucite Hills</td>\n",
              "      <td>Wyoming</td>\n",
              "      <td>Sweetwater</td>\n",
              "      <td>Active</td>\n",
              "      <td>Surface</td>\n",
              "      <td>Operating Subsidiary</td>\n",
              "      <td>Mine only</td>\n",
              "      <td>Black Butte Coal Com</td>\n",
              "      <td>P.O. Box 98, Point Of Rock, WY 82942</td>\n",
              "      <td></td>\n",
              "      <td>Western</td>\n",
              "      <td>3657036</td>\n",
              "      <td>186</td>\n",
              "      <td>386879</td>\n",
              "    </tr>\n",
              "    <tr>\n",
              "      <th>1420</th>\n",
              "      <td>2013</td>\n",
              "      <td>4801646</td>\n",
              "      <td>Bridger Underground Coal Mine</td>\n",
              "      <td>Wyoming</td>\n",
              "      <td>Sweetwater</td>\n",
              "      <td>Active</td>\n",
              "      <td>Underground</td>\n",
              "      <td>Operating Subsidiary</td>\n",
              "      <td>Mine only</td>\n",
              "      <td>Bridger Coal Company</td>\n",
              "      <td>P.O. Box 68, Point Of Rock, WY 82942</td>\n",
              "      <td>Western Energy Workers</td>\n",
              "      <td>Western</td>\n",
              "      <td>4442616</td>\n",
              "      <td>278</td>\n",
              "      <td>661265</td>\n",
              "    </tr>\n",
              "    <tr>\n",
              "      <th>1428</th>\n",
              "      <td>2013</td>\n",
              "      <td>3603561</td>\n",
              "      <td>Mcclure Strip</td>\n",
              "      <td>Refuse Recovery</td>\n",
              "      <td>Jefferson</td>\n",
              "      <td>Active</td>\n",
              "      <td>Refuse</td>\n",
              "      <td>Indepedent Producer Operator</td>\n",
              "      <td>Mine and Preparation Plant</td>\n",
              "      <td>P &amp; N Coal Company Inc</td>\n",
              "      <td>P.O. Box 332, Punxsutawney, PA 15767</td>\n",
              "      <td></td>\n",
              "      <td>Appalachia Northern</td>\n",
              "      <td>235642</td>\n",
              "      <td>51</td>\n",
              "      <td>121332</td>\n",
              "    </tr>\n",
              "  </tbody>\n",
              "</table>\n",
              "<p>660 rows × 16 columns</p>\n",
              "</div>"
            ],
            "text/plain": [
              "      Year  MSHA ID  ... Average Employees Labor Hours\n",
              "2     2013   100759  ...               183      474784\n",
              "4     2013   103451  ...                27       46393\n",
              "5     2013   103433  ...                27       47195\n",
              "6     2013   100329  ...                59      144002\n",
              "7     2013   100851  ...               447     1001809\n",
              "...    ...      ...  ...               ...         ...\n",
              "1417  2013  4800086  ...               289      533884\n",
              "1418  2013  4800677  ...               182      368307\n",
              "1419  2013  4801180  ...               186      386879\n",
              "1420  2013  4801646  ...               278      661265\n",
              "1428  2013  3603561  ...                51      121332\n",
              "\n",
              "[660 rows x 16 columns]"
            ]
          },
          "metadata": {},
          "execution_count": 21
        }
      ]
    },
    {
      "cell_type": "markdown",
      "metadata": {
        "id": "4kppzFJUTUWA"
      },
      "source": [
        "\n"
      ]
    },
    {
      "cell_type": "markdown",
      "metadata": {
        "id": "-n856yDXPArm"
      },
      "source": [
        "9- Plot a line chart for the provide arrays, considering x to be x axis, and y to be y axis.\n",
        "\n"
      ]
    },
    {
      "cell_type": "code",
      "metadata": {
        "id": "6RSRpJWKTPiR",
        "colab": {
          "base_uri": "https://localhost:8080/",
          "height": 282
        },
        "outputId": "99cc7d48-5766-48a2-dbd1-9d7a7002632b"
      },
      "source": [
        "import numpy as np\n",
        "import matplotlib.pyplot as plt\n",
        "x = np.array([15,17,18,20,22,26,28,32,37,40,42,44,48])\n",
        "y = np.array([10,30,40,60,70,86,89,90,92,95,98,100,106])\n",
        "\n",
        "plt.plot(x, y)\n",
        "plt.show"
      ],
      "execution_count": 6,
      "outputs": [
        {
          "output_type": "execute_result",
          "data": {
            "text/plain": [
              "<function matplotlib.pyplot.show>"
            ]
          },
          "metadata": {},
          "execution_count": 6
        },
        {
          "output_type": "display_data",
          "data": {
            "image/png": "[encoded data removed]",
            "text/plain": [
              "<Figure size 432x288 with 1 Axes>"
            ]
          },
          "metadata": {
            "needs_background": "light"
          }
        }
      ]
    },
    {
      "cell_type": "markdown",
      "metadata": {
        "id": "mmvgpQsRQX4H"
      },
      "source": [
        "10- Using the tips dataset, show Labor hours for each days using the column: day and tip, in a bar plot. Hint: use bar(). you can see the dataset in assignment folder"
      ]
    },
    {
      "cell_type": "code",
      "metadata": {
        "id": "k_zY7LCOQZPg"
      },
      "source": [
        ""
      ],
      "execution_count": null,
      "outputs": []
    },
    {
      "cell_type": "markdown",
      "metadata": {
        "id": "PoOz6JEjRMin"
      },
      "source": [
        "Using the provided arrays, plot a pie chart as follow."
      ]
    },
    {
      "cell_type": "code",
      "metadata": {
        "colab": {
          "base_uri": "https://localhost:8080/",
          "height": 266
        },
        "id": "s3s4OaaQRNYK",
        "outputId": "df32ce0f-3499-4e57-a2fd-91ca38689966"
      },
      "source": [
        "\n",
        "Score = np.array([35, 25, 25, 15])\n",
        "Name = np.array(['Sara', 'Sadia', 'Neda', 'Arun'])\n",
        "\n",
        "plt.pie(Score, labels= Name, autopct= '%1.f%%')\n",
        "plt.show"
      ],
      "execution_count": 11,
      "outputs": [
        {
          "output_type": "execute_result",
          "data": {
            "text/plain": [
              "<function matplotlib.pyplot.show>"
            ]
          },
          "metadata": {},
          "execution_count": 11
        },
        {
          "output_type": "display_data",
          "data": {
            "image/png": "[encoded data removed]",
            "text/plain": [
              "<Figure size 432x288 with 1 Axes>"
            ]
          },
          "metadata": {}
        }
      ]
    }
  ]
}